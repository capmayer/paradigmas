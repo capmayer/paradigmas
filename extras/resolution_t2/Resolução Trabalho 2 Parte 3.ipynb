{
 "cells": [
  {
   "cell_type": "code",
   "execution_count": 21,
   "metadata": {
    "collapsed": false,
    "deletable": true,
    "editable": true,
    "scrolled": false
   },
   "outputs": [
    {
     "name": "stdout",
     "output_type": "stream",
     "text": [
      "<!DOCTYPE html>\n",
      "<html>\n",
      "\n",
      "<head>\n",
      "\t<title>Desafio de Paradigmas</title>\n",
      "\t<meta charset=\"utf-8\"/>\n",
      "</head>\n",
      "\n",
      "<!--\n",
      "Muito bem! Aqui estÃ¡ outra dica:\n",
      "41 6c 67 75 6d 61 73 20 66 72 61 73 65 73 20 66 61 6d 6f 73 61 73 20 64 6f 20 41 6c 61 6e 20 4a 2e 20 50 65 72 6c 69 73 20 70 61 72 61 20 65 73 70 69 63 68 61 72 20 61 20 6d 65 6e 73 61 67 65 6d 3a a 46 6f 6e 74 65 3a 20 68 74 74 70 3a 2f 2f 77 77 77 2e 63 73 2e 79 61 6c 65 2e 65 64 75 2f 68 6f 6d 65 73 2f 70 65 72 6c 69 73 2d 61 6c 61 6e 2f 71 75 6f 74 65 73 2e 68 74 6d 6c a 38 2e 20 41 20 70 72 6f 67 72 61 6d 6d 69 6e 67 20 6c 61 6e 67 75 61 67 65 20 69 73 20 6c 6f 77 20 6c 65 76 65 6c 20 77 68 65 6e 20 69 74 73 20 70 72 6f 67 72 61 6d 73 20 72 65 71 75 69 72 65 20 61 74 74 65 6e 74 69 6f 6e 20 74 6f 20 74 68 65 20 69 72 72 65 6c 65 76 61 6e 74 2e a 39 2e 20 49 74 20 69 73 20 62 65 74 74 65 72 20 74 6f 20 68 61 76 65 20 31 30 30 20 66 75 6e 63 74 69 6f 6e 73 20 6f 70 65 72 61 74 65 20 6f 6e 20 6f 6e 65 20 64 61 74 61 20 73 74 72 75 63 74 75 72 65 20 74 68 61 6e 20 31 30 20 66 75 6e 63 74 69 6f 6e 73 20 6f 6e 20 31 30 20 64 61 74 61 20 73 74 72 75 63 74 75 72 65 73 2e 20 a 31 39 2e 20 41 20 6c 61 6e 67 75 61 67 65 20 74 68 61 74 20 64 6f 65 73 6e 27 74 20 61 66 66 65 63 74 20 74 68 65 20 77 61 79 20 79 6f 75 20 74 68 69 6e 6b 20 61 62 6f 75 74 20 70 72 6f 67 72 61 6d 6d 69 6e 67 2c 20 69 73 20 6e 6f 74 20 77 6f 72 74 68 20 6b 6e 6f 77 69 6e 67 2e a 41 67 6f 72 61 20 73 69 6d 2c 20 61 20 55 52 4c 20 69 6d 70 6f 72 74 61 6e 74 65 20 70 61 72 61 20 65 73 74 65 20 74 72 61 62 61 6c 68 6f 3a a 68 74 74 70 3a 2f 2f 62 69 74 2e 6c 79 2f 64 65 73 61 66 69 6f 2d 70 61 72 61 64 69 67 6d 61 73 a 41 63 65 73 73 65 20 70 61 72 61 20 73 61 62 65 72 20 6d 61 69 73 21\n",
      "-->\n",
      "\n",
      "<body>\n",
      "\n",
      "     <h1>SÃ³ uma dica:</h1>\n",
      "     <p>VocÃª deve saber um pouco de HTML.</p>\n",
      "\n",
      "</body>\n",
      "</html>\n",
      "\n"
     ]
    },
    {
     "ename": "TypeError",
     "evalue": "xpath() takes exactly 1 positional argument (0 given)",
     "output_type": "error",
     "traceback": [
      "\u001b[0;31m---------------------------------------------------------------------------\u001b[0m",
      "\u001b[0;31mTypeError\u001b[0m                                 Traceback (most recent call last)",
      "\u001b[0;32m<ipython-input-21-1795117a7631>\u001b[0m in \u001b[0;36m<module>\u001b[0;34m()\u001b[0m\n\u001b[1;32m      6\u001b[0m \u001b[0mprint\u001b[0m\u001b[0;34m(\u001b[0m\u001b[0mpage\u001b[0m\u001b[0;34m.\u001b[0m\u001b[0mtext\u001b[0m\u001b[0;34m)\u001b[0m\u001b[0;34m\u001b[0m\u001b[0m\n\u001b[1;32m      7\u001b[0m \u001b[0mtree\u001b[0m \u001b[0;34m=\u001b[0m \u001b[0mhtml\u001b[0m\u001b[0;34m.\u001b[0m\u001b[0mfromstring\u001b[0m\u001b[0;34m(\u001b[0m\u001b[0mpage\u001b[0m\u001b[0;34m.\u001b[0m\u001b[0mcontent\u001b[0m\u001b[0;34m)\u001b[0m\u001b[0;34m\u001b[0m\u001b[0m\n\u001b[0;32m----> 8\u001b[0;31m \u001b[0mprint\u001b[0m\u001b[0;34m(\u001b[0m\u001b[0mtree\u001b[0m\u001b[0;34m.\u001b[0m\u001b[0mxpath\u001b[0m\u001b[0;34m(\u001b[0m\u001b[0;34m)\u001b[0m\u001b[0;34m)\u001b[0m\u001b[0;34m\u001b[0m\u001b[0m\n\u001b[0m\u001b[1;32m      9\u001b[0m \u001b[0mcontent\u001b[0m \u001b[0;34m=\u001b[0m \u001b[0mtree\u001b[0m\u001b[0;34m.\u001b[0m\u001b[0mxpath\u001b[0m\u001b[0;34m(\u001b[0m\u001b[0;34m\"//p\"\u001b[0m\u001b[0;34m)\u001b[0m\u001b[0;34m\u001b[0m\u001b[0m\n\u001b[1;32m     10\u001b[0m \u001b[0;31m#print(content[0].xpath('text()')[0])\u001b[0m\u001b[0;34m\u001b[0m\u001b[0;34m\u001b[0m\u001b[0m\n",
      "\u001b[0;32msrc/lxml/lxml.etree.pyx\u001b[0m in \u001b[0;36mlxml.etree._Element.xpath (src/lxml/lxml.etree.c:59276)\u001b[0;34m()\u001b[0m\n",
      "\u001b[0;31mTypeError\u001b[0m: xpath() takes exactly 1 positional argument (0 given)"
     ]
    }
   ],
   "source": [
    "from lxml import html, etree\n",
    "import requests\n",
    "\n",
    "url = 'https://desafio-paradigmas.appspot.com/'\n",
    "page = requests.get(url)\n",
    "print(page.text)\n",
    "tree = html.fromstring(page.content)\n",
    "print(tree.xpath())\n",
    "content = tree.xpath(\"//p\")\n",
    "#print(content[0].xpath('text()')[0])"
   ]
  }
 ],
 "metadata": {
  "kernelspec": {
   "display_name": "Python 3",
   "language": "python",
   "name": "python3"
  },
  "language_info": {
   "codemirror_mode": {
    "name": "ipython",
    "version": 3
   },
   "file_extension": ".py",
   "mimetype": "text/x-python",
   "name": "python",
   "nbconvert_exporter": "python",
   "pygments_lexer": "ipython3",
   "version": "3.5.2"
  }
 },
 "nbformat": 4,
 "nbformat_minor": 2
}
